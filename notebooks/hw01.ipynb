{
  "cells": [
    {
      "cell_type": "markdown",
      "metadata": {},
      "source": [
        "# DATASCI 101: Homework 02\n",
        "\n",
        "\n",
        "This is an iPython Notebook. You can edit the cells to answer the prompts. Feel free to add more cells as needed. Use \"Markdown\" cells writing text. When you are finished, use the Explorer pane to find this file. Right click and select download. Upload your submission on Gradescope!\n",
        "\n",
        "\n",
        "## Question 1\n",
        "\n",
        "### Q1.a\n",
        "\n",
        "Demonstrate using a Jupyter notebook.\n",
        "\n",
        "Create a new code cell after this cell and create a variable called `password` that contains the string \"chinchilla\" as its only item. Then run the cell. \n",
        "\n",
        "---\n"
      ]
    },
    {
      "cell_type": "code",
      "execution_count": 81,
      "metadata": {},
      "outputs": [],
      "source": [
        "password = \"chinchilla\""
      ]
    },
    {
      "cell_type": "markdown",
      "metadata": {},
      "source": [
        "\n",
        "Now create another code cell. In this one enter only the word `password` and run the cell. \n",
        "\n",
        "----\n"
      ]
    },
    {
      "cell_type": "code",
      "execution_count": 82,
      "metadata": {},
      "outputs": [
        {
          "data": {
            "text/plain": [
              "'chinchilla'"
            ]
          },
          "execution_count": 82,
          "metadata": {},
          "output_type": "execute_result"
        }
      ],
      "source": [
        "password"
      ]
    },
    {
      "cell_type": "markdown",
      "metadata": {},
      "source": [
        "The first cell create a variable and stores a string in it. The second cell shows the content of the variable. "
      ]
    },
    {
      "cell_type": "markdown",
      "metadata": {},
      "source": [
        "Now create a cell that creates the `password` variable on one line and then has only the word `password` on the next line. Run the cell. Create another text cell after that one and explain how you can use the behavior you are seeing here to show your results on homework assignments."
      ]
    },
    {
      "cell_type": "code",
      "execution_count": 83,
      "metadata": {},
      "outputs": [
        {
          "data": {
            "text/plain": [
              "'chinchilla'"
            ]
          },
          "execution_count": 83,
          "metadata": {},
          "output_type": "execute_result"
        }
      ],
      "source": [
        "password = \"chinchilla\"\n",
        "password"
      ]
    },
    {
      "cell_type": "markdown",
      "metadata": {},
      "source": [
        "By typing the \"password\" in second line. The content of password can be shown. To show the results on homework assignment, type the variable name in a separate line. "
      ]
    },
    {
      "cell_type": "markdown",
      "metadata": {},
      "source": [
        "\n",
        "\n",
        "\n",
        "### Q1.b\n",
        "\n",
        "In the rest of this homework, we are going to write some code related to password security. \n",
        "\n",
        "Suppose a website stores passwords in plain text. The user will supply a password, and the website will store it in a variable called `attempt`.\n",
        "\n",
        "Write a function that takes in the `attempt` and the `password` and returns `True` if they are the same and `False` otherwise.\n",
        "\n",
        "* Verify (show in code) that your function works by calling it with the password \"chinchilla\" and the attempt \"chinchilla\".\n",
        "* Verify that your function works by calling it with the password \"chinchilla\" and the attempt \"Chinchilla\".\n",
        "\n",
        "Use comments to explain what you expect to see in the output of your function from previous two applications of your function."
      ]
    },
    {
      "cell_type": "code",
      "execution_count": 84,
      "metadata": {},
      "outputs": [
        {
          "name": "stdout",
          "output_type": "stream",
          "text": [
            "True\n",
            "False\n"
          ]
        }
      ],
      "source": [
        "def password_security(attempt, password):\n",
        "    return attempt == password\n",
        "\n",
        "# Expected output: True\n",
        "print(password_security(\"chinchilla\", \"chinchilla\"))\n",
        "\n",
        "# Expected output: False\n",
        "print(password_security(\"Chinchilla\", \"chinchilla\"))\n"
      ]
    },
    {
      "cell_type": "markdown",
      "metadata": {},
      "source": [
        "### Q1.c\n",
        "\n",
        "Suppose we have a **dictionary** of users and their passwords. The keys are the usernames and the values are the passwords. \n",
        "\n",
        "Here are several users and their passwords:\n",
        "\n",
        "| Username | Password |\n",
        "|----------|----------|\n",
        "| alice    | chinchilla |\n",
        "| bob      | 123456 |\n",
        "| charlie  | password |\n",
        "\n",
        "Create a dictionary called `users` that contains the above information.\n",
        "\n",
        "Now write a function that takes in a `username` and a `password` and returns `True` if the `username` is in the `users` dictionary and the `password` matches the password in the dictionary. Otherwise, it should return `False`.\n",
        "\n",
        "* Verify that your function works by calling it with the username \"alice\" and the password \"chinchilla\".\n",
        "* Verify that your function works by calling it with the username \"alice\" and the password \"Chinchilla\".\n",
        "* Verify that your function works by calling it with the username \"bobby\" and the password \"123456\".\n",
        "\n",
        "Again, use comments to explain what you expect to see in the output of your function from previous three applications of your function.\n",
        "\n",
        "To get you started, here is a little helper function that will return `True` if a key is in a dictionary and `False` otherwise."
      ]
    },
    {
      "cell_type": "code",
      "execution_count": 85,
      "metadata": {},
      "outputs": [
        {
          "name": "stdout",
          "output_type": "stream",
          "text": [
            "True\n",
            "False\n",
            "False\n"
          ]
        }
      ],
      "source": [
        "users = {\"alice\": \"chinchilla\", \"bob\": \"123456\", \"charlie\": \"password\"}\n",
        "\n",
        "def key_in_dict(key, password):\n",
        "    if key in users and users[key] == password:\n",
        "        return True\n",
        "    else:\n",
        "        return False\n",
        "    \n",
        "# Expected output: True\n",
        "print(key_in_dict(\"alice\", \"chinchilla\"))\n",
        "\n",
        "# Expected output: False\n",
        "print(key_in_dict(\"alice\", \"Chinchilla\"))\n",
        "\n",
        "# Expected output: False\n",
        "print(key_in_dict(\"bobby\", \"123456\"))\n"
      ]
    },
    {
      "cell_type": "markdown",
      "metadata": {},
      "source": [
        "Note: think about how you can use `if` statements to help you (or ask the AI assistant for help).\n",
        "\n",
        "\n",
        "### Q1.d\n",
        "\n",
        "Generally, we wouldn't want to keep strings as plain text. A frequent strategy is to use a [crypographic hash function](https://en.wikipedia.org/wiki/Cryptographic_hash_function) to make the plain text password unreadable. A hashing function will replace the input with a different string or number. It is very difficult to go backwards from the hashed value to the original string, but every time we hash, we get the same value.\n",
        "\n",
        "Use the `hash2` function on the password. Demonstrate that each time we use it we get the same value by calling it twice (remember that only the last line of a cell will print out). You answer should have an explicit `True` value as the output."
      ]
    },
    {
      "cell_type": "code",
      "execution_count": 86,
      "metadata": {},
      "outputs": [
        {
          "data": {
            "text/plain": [
              "True"
            ]
          },
          "execution_count": 86,
          "metadata": {},
          "output_type": "execute_result"
        }
      ],
      "source": [
        "import hashlib\n",
        "\n",
        "def hash2(x):\n",
        "  return hashlib.sha256(x.encode('utf-8')).hexdigest()\n",
        "\n",
        "hash2(password) == hash2(password)\n"
      ]
    },
    {
      "cell_type": "markdown",
      "metadata": {},
      "source": [
        "### Q1.e\n",
        "\n",
        "If a list of passwords were stolen, the malicious actors might be able to undo the hashing by guessing common words. This called a dictionary attack, as each word (and often combinations of common words and other characters) is hashed and then compared to the stolen list of passwords to see if it is present.\n"
      ]
    },
    {
      "cell_type": "code",
      "execution_count": 87,
      "metadata": {},
      "outputs": [
        {
          "data": {
            "text/plain": [
              "'b00ef262afae566b51f740124a6b12d982a2cff1bbf2ab5632cb548e98da6feb'"
            ]
          },
          "execution_count": 87,
          "metadata": {},
          "output_type": "execute_result"
        }
      ],
      "source": [
        "hash2(\"wolverine\")"
      ]
    },
    {
      "cell_type": "code",
      "execution_count": 88,
      "metadata": {},
      "outputs": [],
      "source": [
        "stolen_password = 'b00ef262afae566b51f740124a6b12d982a2cff1bbf2ab5632cb548e98da6feb'"
      ]
    },
    {
      "cell_type": "markdown",
      "metadata": {},
      "source": [
        "Hash the following three words to see if one of them is the stolen password. Use `==` to evaluate if the hashed version is the same as the stolen password hash. Use a for loop or list comprehension to avoid repeating yourself. Can we guess the password?\n",
        "\n",
        "* badger\n",
        "* wolverine\n",
        "* jaguar"
      ]
    },
    {
      "cell_type": "code",
      "execution_count": 89,
      "metadata": {},
      "outputs": [
        {
          "name": "stdout",
          "output_type": "stream",
          "text": [
            "badger is not the password.\n",
            "The password is: wolverine\n",
            "jaguar is not the password.\n"
          ]
        }
      ],
      "source": [
        "words = [\"badger\", \"wolverine\", \"jaguar\"]\n",
        "hashed_words = [hash2(word) for word in words]\n",
        "\n",
        "for word, hashed_word in zip(words, hashed_words):\n",
        "    if hashed_word == stolen_password:\n",
        "        print(f\"The password is: {word}\")\n",
        "    else:\n",
        "        print(f\"{word} is not the password.\")"
      ]
    },
    {
      "cell_type": "markdown",
      "metadata": {},
      "source": [
        "### Q1.f\n",
        "\n",
        "A better way to protect passwords is to add a \"salt\" to all user's passwords on a given site. The salt is a secret string that is prepended to each password *before* hashing.\n",
        "\n",
        "Complete the function below that combines the `salt` with the supplied `password` to strengthen it. Demonstrate that just hashing the correct password is insufficient to guess the password if you do not know the salt as well (again use `==`)."
      ]
    },
    {
      "cell_type": "code",
      "execution_count": 90,
      "metadata": {},
      "outputs": [
        {
          "data": {
            "text/plain": [
              "False"
            ]
          },
          "execution_count": 90,
          "metadata": {},
          "output_type": "execute_result"
        }
      ],
      "source": [
        "def salted_hash(password):\n",
        "  salt = \"zoology\"\n",
        "  return hash2(salt + password)\n",
        "\n",
        "# compute the salted and hashed version of the password \"cardinal\"\n",
        "salted_hashed_password = salted_hash(\"cardinal\")\n",
        "\n",
        "# demonstrate that we cannot guess without the salt\n",
        "hash2(\"cardinal\") == salted_hashed_password\n"
      ]
    },
    {
      "cell_type": "markdown",
      "metadata": {},
      "source": [
        "## Question 2\n",
        "\n",
        "### Q2.a\n",
        "\n",
        "Run the code in the following cell. What does the `%` operator do?"
      ]
    },
    {
      "cell_type": "code",
      "execution_count": 91,
      "metadata": {},
      "outputs": [
        {
          "data": {
            "text/plain": [
              "[1, 0, 1]"
            ]
          },
          "execution_count": 91,
          "metadata": {},
          "output_type": "execute_result"
        }
      ],
      "source": [
        "[3 % 2, 4 % 2, 5 % 2]\n",
        "# it calculates the reminder "
      ]
    },
    {
      "cell_type": "markdown",
      "metadata": {},
      "source": [
        "### Q2.b\n",
        "\n",
        "Complete the following function that will compute if an input is even or odd:"
      ]
    },
    {
      "cell_type": "code",
      "execution_count": 92,
      "metadata": {},
      "outputs": [],
      "source": [
        "def is_odd(num):\n",
        "    if num % 2 == 1: \n",
        "        return \"Odd\"\n",
        "    else:\n",
        "        return \"Even\""
      ]
    },
    {
      "cell_type": "code",
      "execution_count": 93,
      "metadata": {},
      "outputs": [
        {
          "data": {
            "text/plain": [
              "'Even'"
            ]
          },
          "execution_count": 93,
          "metadata": {},
          "output_type": "execute_result"
        }
      ],
      "source": [
        "is_odd(16) # Should return False"
      ]
    },
    {
      "cell_type": "code",
      "execution_count": 94,
      "metadata": {},
      "outputs": [
        {
          "data": {
            "text/plain": [
              "'Odd'"
            ]
          },
          "execution_count": 94,
          "metadata": {},
          "output_type": "execute_result"
        }
      ],
      "source": [
        "is_odd(17) # Should return True"
      ]
    },
    {
      "cell_type": "markdown",
      "metadata": {},
      "source": [
        "### Q2.c\n",
        "\n",
        "Here is some input data:"
      ]
    },
    {
      "cell_type": "markdown",
      "metadata": {},
      "source": [
        "Write a **for loop** to select just the odd numbers of `some_numbers`. Make sure to use your function from part (b). Print out your result."
      ]
    },
    {
      "cell_type": "code",
      "execution_count": 95,
      "metadata": {},
      "outputs": [],
      "source": [
        "some_numbers = [91, 88, 38, 103, 199372, 3, 4945, 20098]"
      ]
    },
    {
      "cell_type": "code",
      "execution_count": 96,
      "metadata": {},
      "outputs": [
        {
          "name": "stdout",
          "output_type": "stream",
          "text": [
            "[91, 103, 3, 4945]\n"
          ]
        }
      ],
      "source": [
        "odd_numbers = []\n",
        "for number in some_numbers:\n",
        "    if is_odd(number) == \"Odd\":\n",
        "        odd_numbers.append(number)\n",
        "\n",
        "print(odd_numbers)"
      ]
    },
    {
      "cell_type": "markdown",
      "metadata": {},
      "source": [
        "### Q2d\n",
        "\n",
        "Using a **list comprehension** select just the odd elements of `some_numbers`, convert them to strings (using the `str` function), and then `hash2` them. **Do not** use any results from part (c) in your solution."
      ]
    },
    {
      "cell_type": "code",
      "execution_count": 97,
      "metadata": {},
      "outputs": [
        {
          "data": {
            "text/plain": [
              "['1da51b8d8ff98f6a48f80ae79fe3ca6c26e1abb7b7d125259255d6d2b875ea08',\n",
              " '454f63ac30c8322997ef025edff6abd23e0dbe7b8a3d5126a894e4a168c1b59b',\n",
              " '4e07408562bedb8b60ce05c1decfe3ad16b72230967de01f640b7e4729b49fce',\n",
              " 'dcc29e4daf71d69ed930fed1226afabff8390db9a6ead22e08392878ffa7d65d']"
            ]
          },
          "execution_count": 97,
          "metadata": {},
          "output_type": "execute_result"
        }
      ],
      "source": [
        "\n",
        "[hash2(str(num)) for num in some_numbers if is_odd(num) == \"Odd\"]"
      ]
    },
    {
      "cell_type": "markdown",
      "metadata": {},
      "source": [
        "\n",
        "\n",
        "### Q2e\n",
        "\n",
        "For a particular website, suppose users could only choose positive, whole numbers as passwords, and the site neglected use salting to make the numbers harder to guess.\n",
        "\n",
        "Here is an example stolen value."
      ]
    },
    {
      "cell_type": "code",
      "execution_count": 98,
      "metadata": {},
      "outputs": [
        {
          "data": {
            "text/plain": [
              "6695828249468309264"
            ]
          },
          "execution_count": 98,
          "metadata": {},
          "output_type": "execute_result"
        }
      ],
      "source": [
        "hash(str(206))"
      ]
    },
    {
      "cell_type": "code",
      "execution_count": 99,
      "metadata": {
        "executionInfo": {
          "elapsed": 150,
          "status": "ok",
          "timestamp": 1707340720865,
          "user": {
            "displayName": "Sang Hoo Kook",
            "userId": "10303743989712676976"
          },
          "user_tz": 300
        }
      },
      "outputs": [],
      "source": [
        "hashed_number = '5cf4e26bd3d87da5e03f80a43a64f1220a1f4ba9e1d6348caea83c06353c3f39'"
      ]
    },
    {
      "cell_type": "markdown",
      "metadata": {},
      "source": [
        "Carry out a dictionary attach by implementing the following:\n",
        "\n",
        "* Write a function that takes a number as an input, and returns True if that number (after being coverted to a string) hashes to the `hashed_number` value.\n",
        "* Use this function to find out if value in 0 to 100000 was the password. (Hint: use the `range(a, b)` function which gives back a sequence of values from a to (b - 1)).\n"
      ]
    },
    {
      "cell_type": "code",
      "execution_count": 101,
      "metadata": {},
      "outputs": [
        {
          "name": "stdout",
          "output_type": "stream",
          "text": [
            "The password is: 206\n"
          ]
        }
      ],
      "source": [
        "def is_password(number):\n",
        "    return hash2(str(number)) == hashed_number\n",
        "\n",
        "for num in range(100001):\n",
        "    if is_password(num):\n",
        "        print(f\"The password is: {num}\")\n",
        "        break"
      ]
    }
  ],
  "metadata": {
    "kernelspec": {
      "display_name": "Python 3",
      "language": "python",
      "name": "python3"
    },
    "language_info": {
      "codemirror_mode": {
        "name": "ipython",
        "version": 3
      },
      "file_extension": ".py",
      "mimetype": "text/x-python",
      "name": "python",
      "nbconvert_exporter": "python",
      "pygments_lexer": "ipython3",
      "version": "3.12.1"
    }
  },
  "nbformat": 4,
  "nbformat_minor": 4
}
